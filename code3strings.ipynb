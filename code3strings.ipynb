{
 "cells": [
  {
   "cell_type": "code",
   "execution_count": 2,
   "id": "1d185ebb",
   "metadata": {},
   "outputs": [
    {
     "name": "stdout",
     "output_type": "stream",
     "text": [
      "Enter your name: nathan\n",
      "Hello, Nathan! Nice to meet you.\n"
     ]
    }
   ],
   "source": [
    "# 1 - Greeting Message\n",
    "name = input(\"Enter your name: \")\n",
    "nameTitle = name.title()\n",
    "print(\"Hello, \" + nameTitle + \"! Nice to meet you.\")"
   ]
  },
  {
   "cell_type": "code",
   "execution_count": 10,
   "id": "8ede7206",
   "metadata": {},
   "outputs": [
    {
     "name": "stdout",
     "output_type": "stream",
     "text": [
      "Enter a word: abcdefghijklmnopqrstuvwxyz\n",
      "Reversed: zyxwvutsrqponmlkjihgfedcba\n"
     ]
    }
   ],
   "source": [
    "# 2 - Reversed String\n",
    "word = input(\"Enter a word: \")\n",
    "reversedWord = word[::-1]\n",
    "print(\"Reversed: \" + reversedWord)"
   ]
  },
  {
   "cell_type": "code",
   "execution_count": 16,
   "id": "880b7a20",
   "metadata": {},
   "outputs": [
    {
     "name": "stdout",
     "output_type": "stream",
     "text": [
      "Enter a sentence: Here is an example sentence.\n",
      "The sentence has 28 characters.\n"
     ]
    }
   ],
   "source": [
    "# 3 - String Length\n",
    "sentence = input(\"Enter a sentence: \")\n",
    "numChar = len(sentence)\n",
    "print(\"The sentence has \" + str(numChar) + \" characters.\")"
   ]
  },
  {
   "cell_type": "code",
   "execution_count": 17,
   "id": "f3950521",
   "metadata": {},
   "outputs": [
    {
     "name": "stdout",
     "output_type": "stream",
     "text": [
      "Enter a word or sentence: This class teaches python\n",
      "Number of Vowels: 6\n"
     ]
    }
   ],
   "source": [
    "# 4 - Vowel Count\n",
    "userWordSent = input(\"Enter a word or sentence: \")\n",
    "vowels = userWordSent.count('a')\n",
    "vowels = vowels + userWordSent.count('e')\n",
    "vowels = vowels + userWordSent.count('i')\n",
    "vowels = vowels + userWordSent.count('o')\n",
    "vowels = vowels + userWordSent.count('u')\n",
    "print(\"Number of Vowels: \" + str(vowels))"
   ]
  },
  {
   "cell_type": "code",
   "execution_count": 25,
   "id": "ef0fe400",
   "metadata": {},
   "outputs": [
    {
     "name": "stdout",
     "output_type": "stream",
     "text": [
      "Enter a word: radar\n",
      "The word is a palindrome.\n"
     ]
    }
   ],
   "source": [
    "# 5 - Palindrome Check\n",
    "wordPC = input(\"Enter a word: \")\n",
    "if wordPC == wordPC[::-1]:\n",
    "    print(\"The word is a palindrome.\")\n",
    "else:\n",
    "    print(\"The word is not a palindrome.\")"
   ]
  },
  {
   "cell_type": "code",
   "execution_count": 28,
   "id": "a0dc0f07",
   "metadata": {},
   "outputs": [
    {
     "name": "stdout",
     "output_type": "stream",
     "text": [
      "Enter a secret message: This message is secret.\n",
      "Encrypted Secret Message: THIS_MESSAGE_IS_SECRET.\n"
     ]
    }
   ],
   "source": [
    "# 6 - Secret Message\n",
    "secret = input(\"Enter a secret message: \")\n",
    "encryptSecret = secret.upper().replace(\" \", \"_\")\n",
    "print(\"Encrypted Secret Message: \" + encryptSecret)"
   ]
  }
 ],
 "metadata": {
  "kernelspec": {
   "display_name": "Python 3 (ipykernel)",
   "language": "python",
   "name": "python3"
  },
  "language_info": {
   "codemirror_mode": {
    "name": "ipython",
    "version": 3
   },
   "file_extension": ".py",
   "mimetype": "text/x-python",
   "name": "python",
   "nbconvert_exporter": "python",
   "pygments_lexer": "ipython3",
   "version": "3.10.9"
  }
 },
 "nbformat": 4,
 "nbformat_minor": 5
}
